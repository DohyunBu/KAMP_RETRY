{
 "cells": [
  {
   "cell_type": "markdown",
   "metadata": {},
   "source": [
    "## Import"
   ]
  },
  {
   "cell_type": "code",
   "execution_count": null,
   "metadata": {},
   "outputs": [],
   "source": [
    "import pandas as pd\n",
    "import numpy as np\n",
    "import matplotlib.pyplot as plt\n",
    "import seaborn as sns"
   ]
  },
  {
   "cell_type": "code",
   "execution_count": null,
   "metadata": {},
   "outputs": [],
   "source": [
    "plt.rcParams['font.family'] ='Malgun Gothic'\n",
    "plt.rcParams['axes.unicode_minus'] =False"
   ]
  },
  {
   "cell_type": "code",
   "execution_count": null,
   "metadata": {},
   "outputs": [],
   "source": [
    "data = pd.read_csv(\"data.csv\",encoding='cp949')\n",
    "quality = pd.read_excel(\"quality.xlsx\")\n",
    "train = pd.read_csv(\"train.csv\",encoding='cp949')"
   ]
  },
  {
   "cell_type": "markdown",
   "metadata": {},
   "source": [
    "## Data Info"
   ]
  },
  {
   "cell_type": "markdown",
   "metadata": {},
   "source": [
    "#### 일관성"
   ]
  },
  {
   "cell_type": "code",
   "execution_count": null,
   "metadata": {},
   "outputs": [],
   "source": [
    "data['TAG_MIN'] = pd.to_datetime(data['TAG_MIN'],format='%Y-%m-%d',errors='coerce')\n",
    "data['TAG_MIN'].isnull().sum()"
   ]
  },
  {
   "cell_type": "code",
   "execution_count": null,
   "metadata": {},
   "outputs": [],
   "source": [
    "data.describe()"
   ]
  },
  {
   "cell_type": "code",
   "execution_count": null,
   "metadata": {},
   "outputs": [],
   "source": [
    "data.info()"
   ]
  },
  {
   "cell_type": "code",
   "execution_count": null,
   "metadata": {},
   "outputs": [],
   "source": [
    "quality.describe()"
   ]
  },
  {
   "cell_type": "code",
   "execution_count": null,
   "metadata": {},
   "outputs": [],
   "source": [
    "quality.info()"
   ]
  },
  {
   "cell_type": "code",
   "execution_count": null,
   "metadata": {},
   "outputs": [],
   "source": [
    "train.describe()"
   ]
  },
  {
   "cell_type": "code",
   "execution_count": null,
   "metadata": {},
   "outputs": [],
   "source": [
    "train.info()"
   ]
  },
  {
   "cell_type": "markdown",
   "metadata": {},
   "source": [
    "#### 완전성"
   ]
  },
  {
   "cell_type": "code",
   "execution_count": null,
   "metadata": {},
   "outputs": [],
   "source": [
    "gds = data.groupby('배정번호')\n",
    "f_num = [group_df for _, group_df in gds]"
   ]
  },
  {
   "cell_type": "code",
   "execution_count": null,
   "metadata": {},
   "outputs": [],
   "source": [
    "for i in range(len(data.columns[2:])):\n",
    "    exec(f'list_{i}=[]')\n",
    "\n",
    "for i in range(len(gds)):\n",
    "    for j in range(len(data.columns[2:])):\n",
    "        exec(f'list_{j}.append((1-(f_num[{i}].isna().sum()[\"{data.columns[2:][j]}\"]/len(f_num[{i}])))*100)') "
   ]
  },
  {
   "cell_type": "code",
   "execution_count": null,
   "metadata": {},
   "outputs": [],
   "source": [
    "plt.figure(figsize=(9,6))\n",
    "for i in range(len(data.columns[2:])):\n",
    "    plt.plot(eval(f'list_{i}'),label=f'{data.columns[2:][i]} 완전성')\n",
    "plt.plot([30 for i in range(len(list_0))],label='기준(30%)',c='r')\n",
    "plt.xlabel('배정번호 index')\n",
    "plt.ylabel('완전성(%)')\n",
    "plt.legend()\n",
    "plt.show()"
   ]
  },
  {
   "cell_type": "code",
   "execution_count": null,
   "metadata": {},
   "outputs": [],
   "source": [
    "non_first_count = 0\n",
    "for i in range(len(f_num)):    \n",
    "    na_row = f_num[i].isna().sum(axis=1)\n",
    "    non_first_count += sum(f_num[i].index[:sum(na_row!=0)] != na_row[na_row!=0].index)\n",
    "\n",
    "non_first_count"
   ]
  },
  {
   "cell_type": "code",
   "execution_count": null,
   "metadata": {},
   "outputs": [],
   "source": [
    "plt.figure(figsize=(9,6))\n",
    "for i in range(3):\n",
    "    na_row = f_num[i].isna().sum(axis=1)\n",
    "    plt.plot(na_row, label = f\"배정번호 {quality['배정번호'].iloc[i]} 결측치 개수\")\n",
    "\n",
    "plt.xlabel('시간 index')\n",
    "plt.ylabel('결측 특성 개수')\n",
    "plt.legend()\n",
    "plt.show()\n"
   ]
  },
  {
   "cell_type": "code",
   "execution_count": null,
   "metadata": {},
   "outputs": [],
   "source": [
    "isna_list = []\n",
    "for i in range(len(f_num)):\n",
    "    isna_list.append((1-(f_num[i].isna().sum().max()/len(f_num[i])))*100)"
   ]
  },
  {
   "cell_type": "code",
   "execution_count": null,
   "metadata": {},
   "outputs": [],
   "source": [
    "plt.figure(figsize=(9,6))\n",
    "plt.plot(isna_list,label= '배정번호별 완전성')\n",
    "plt.plot([30 for i in range(len(isna_list))],label='기준(30%)',c='r')\n",
    "plt.xlabel('배정번호 index')\n",
    "plt.ylabel('완전성(%)')\n",
    "plt.legend()\n",
    "plt.show()"
   ]
  },
  {
   "cell_type": "code",
   "execution_count": null,
   "metadata": {},
   "outputs": [],
   "source": [
    "np.array(isna_list)[np.array(isna_list)>0.3]"
   ]
  },
  {
   "cell_type": "markdown",
   "metadata": {},
   "source": [
    "#### 유일성"
   ]
  },
  {
   "cell_type": "code",
   "execution_count": null,
   "metadata": {},
   "outputs": [],
   "source": [
    "sum(quality.groupby(['배정번호']).size()==1)"
   ]
  },
  {
   "cell_type": "code",
   "execution_count": null,
   "metadata": {},
   "outputs": [],
   "source": [
    "sum(quality.groupby(['배정번호']).size()==1)/len(quality)*100"
   ]
  },
  {
   "cell_type": "markdown",
   "metadata": {},
   "source": [
    "#### 정확성"
   ]
  },
  {
   "cell_type": "code",
   "execution_count": null,
   "metadata": {},
   "outputs": [],
   "source": [
    "quality['추정총수량'] = quality['양품수량'] + quality['불량수량']\n",
    "(1-sum(quality['추정총수량'] != quality['총수량'])/len(quality))*100"
   ]
  },
  {
   "cell_type": "code",
   "execution_count": null,
   "metadata": {},
   "outputs": [],
   "source": [
    "quality['데이터수'] = 0\n",
    "for i in quality['배정번호']:\n",
    "    quality.loc[quality['배정번호']==i, '데이터수'] = data.groupby('배정번호')['TAG_MIN'].count().loc[i]"
   ]
  },
  {
   "cell_type": "code",
   "execution_count": null,
   "metadata": {},
   "outputs": [],
   "source": [
    "quality['오차율'] = abs(quality['총수량'] - quality['데이터수'])/quality['총수량']*100"
   ]
  },
  {
   "cell_type": "code",
   "execution_count": null,
   "metadata": {},
   "outputs": [],
   "source": [
    "plt.figure(figsize=(9,6))\n",
    "plt.plot(quality['오차율'],label='배정번호별 총수량 대비 데이터수 오차율')\n",
    "plt.xlabel('배정번호 index')\n",
    "plt.ylabel('오차율(%)')\n",
    "plt.legend()\n",
    "plt.show()"
   ]
  },
  {
   "cell_type": "code",
   "execution_count": null,
   "metadata": {},
   "outputs": [],
   "source": [
    "quality['불량률'] = quality['불량수량']/quality['총수량']"
   ]
  },
  {
   "cell_type": "markdown",
   "metadata": {},
   "source": [
    "#### 유효성"
   ]
  },
  {
   "cell_type": "code",
   "execution_count": null,
   "metadata": {},
   "outputs": [],
   "source": [
    "sum(quality['배정번호'].unique() == data['배정번호'].unique())"
   ]
  },
  {
   "cell_type": "code",
   "execution_count": null,
   "metadata": {},
   "outputs": [],
   "source": [
    "sum(quality['배정번호'].unique() == data['배정번호'].unique())/max(len(quality['배정번호'].unique()),len(data['배정번호'].unique()))*100"
   ]
  },
  {
   "cell_type": "code",
   "execution_count": null,
   "metadata": {},
   "outputs": [],
   "source": [
    "list_colname = []\n",
    "for i in train.columns[1:]:\n",
    "    list_colname.append(i.split('_')[0])\n",
    "\n",
    "set(data.columns[2:]) - set(list_colname)"
   ]
  },
  {
   "cell_type": "code",
   "execution_count": null,
   "metadata": {},
   "outputs": [],
   "source": [
    "col = np.array([[i + '_Avg', i + '_Std'] for i in data.drop(['소입로 CP 모니터 값'],axis=1).columns[2:]]).reshape(-1).tolist()\n",
    "meanstd_df = pd.DataFrame(np.array(data.drop(['소입로 CP 모니터 값'],axis=1).iloc[:,1:].groupby('배정번호').agg(['mean','std'])),columns=col)\n",
    "meanstd_df = pd.concat([pd.DataFrame(data['배정번호'].unique(),columns=['배정번호']),meanstd_df],axis=1)\n",
    "meanstd_df.iloc[list(train['Unnamed: 0']),:]"
   ]
  },
  {
   "cell_type": "code",
   "execution_count": null,
   "metadata": {},
   "outputs": [],
   "source": [
    "train"
   ]
  },
  {
   "cell_type": "code",
   "execution_count": null,
   "metadata": {},
   "outputs": [],
   "source": [
    "(np.abs(np.array(meanstd_df.iloc[list(train['Unnamed: 0']),1:]) - np.array(train.iloc[:,1:-1]))/np.array(train.iloc[:,1:-1])).mean()*100"
   ]
  },
  {
   "cell_type": "code",
   "execution_count": null,
   "metadata": {},
   "outputs": [],
   "source": [
    "train['불량률'] = 0\n",
    "for i in range(len(train)):\n",
    "    n = train['Unnamed: 0'].iloc[i]\n",
    "    train.loc[train['Unnamed: 0'] == n, '불량률'] = quality['불량률'].iloc[n]\n",
    "\n",
    "train.groupby('불량단계')['불량률'].describe()"
   ]
  },
  {
   "cell_type": "code",
   "execution_count": null,
   "metadata": {},
   "outputs": [],
   "source": [
    "quality['불량단계'] = 0\n",
    "quality.loc[quality['불량률']>=0.0004525, '불량단계'] = 1\n"
   ]
  },
  {
   "cell_type": "markdown",
   "metadata": {},
   "source": [
    "## EDA"
   ]
  },
  {
   "cell_type": "code",
   "execution_count": null,
   "metadata": {},
   "outputs": [],
   "source": [
    "quality = quality.drop(['작업일','공정명','설비명','양품수량','불량수량','총수량','추정총수량','오차율'],axis=1)\n",
    "quality.sort_values('불량률')"
   ]
  },
  {
   "cell_type": "code",
   "execution_count": null,
   "metadata": {},
   "outputs": [],
   "source": [
    "low_list = [quality.sort_values('불량률')['배정번호'].iloc[i] for i in range(6)]\n",
    "high_list = [quality.sort_values('불량률',ascending=False)['배정번호'].iloc[i] for i in range(6)]\n",
    "\n",
    "low_list, high_list"
   ]
  },
  {
   "cell_type": "code",
   "execution_count": null,
   "metadata": {},
   "outputs": [],
   "source": [
    "for i in data.columns[2:]:\n",
    "    plt.figure(figsize=(16,9))\n",
    "    for j in range(6):\n",
    "        plt.plot(data.loc[data['배정번호'] == low_list[j], i].reset_index(drop=True), label = f'배정번호 {low_list[j]}(불량률 낮)',c=f'#a{j+4}0000')\n",
    "    for k in range(6):\n",
    "        plt.plot(data.loc[data['배정번호'] == high_list[k], i].reset_index(drop=True), label = f'배정번호 {high_list[k]}(불량률 높)',c=f'#0000a{k+4}')\n",
    "    plt.xlabel('시간 index')\n",
    "    plt.ylabel(i)\n",
    "    plt.legend()\n",
    "    plt.show()"
   ]
  },
  {
   "cell_type": "code",
   "execution_count": null,
   "metadata": {},
   "outputs": [],
   "source": [
    "index = 0\n",
    "for i in data.columns[2:]:\n",
    "    for ii in data.columns[3+index:]:\n",
    "        plt.figure(figsize=(16,9))\n",
    "        for j in range(6):\n",
    "            plt.scatter(x = data.loc[data['배정번호'] == low_list[j], i].reset_index(drop=True), y = data.loc[data['배정번호'] == low_list[j], ii].reset_index(drop=True), label = f'배정번호 {low_list[j]}(불량률 낮)',c=f'#a{j+4}0000',alpha=0.5)\n",
    "        for k in range(6):\n",
    "            plt.scatter(x = data.loc[data['배정번호'] == high_list[k], i].reset_index(drop=True), y = data.loc[data['배정번호'] == high_list[k], ii].reset_index(drop=True), label = f'배정번호 {high_list[k]}(불량률 높)',c=f'#0000a{k+4}',alpha=0.5)\n",
    "        plt.xlabel(i)\n",
    "        plt.ylabel(ii)\n",
    "        plt.legend()\n",
    "        plt.show()\n",
    "    index += 1"
   ]
  },
  {
   "cell_type": "code",
   "execution_count": null,
   "metadata": {},
   "outputs": [],
   "source": [
    "plt.figure(figsize=(16,9))\n",
    "plt.plot(quality['불량률'],label='배정번호별 불량률')\n",
    "plt.plot([0.0004525 for i in range(len(quality['불량률']))], label = '불량 단계 위험 기준(0.0004525)',c='r')\n",
    "plt.xlabel('배정번호 index')\n",
    "plt.ylabel('불량률')\n",
    "plt.legend()\n",
    "plt.show()"
   ]
  },
  {
   "cell_type": "code",
   "execution_count": null,
   "metadata": {},
   "outputs": [],
   "source": [
    "plt.figure(figsize=(16,9))\n",
    "corr_data_high = data[data['배정번호']==high_list[0]].drop(['TAG_MIN','배정번호'],axis=1).corr(method='pearson').round(2)\n",
    "sns.heatmap(corr_data_high, annot=True, annot_kws={\"size\":10})"
   ]
  },
  {
   "cell_type": "code",
   "execution_count": null,
   "metadata": {},
   "outputs": [],
   "source": [
    "plt.figure(figsize=(16,9))\n",
    "corr_data_low = data[data['배정번호']==low_list[0]].drop(['TAG_MIN','배정번호'],axis=1).corr(method='pearson').round(2)\n",
    "sns.heatmap(corr_data_low, annot=True, annot_kws={\"size\":10})"
   ]
  },
  {
   "cell_type": "code",
   "execution_count": null,
   "metadata": {},
   "outputs": [],
   "source": [
    "plt.figure(figsize=(16,9))\n",
    "sns.heatmap((corr_data_high - corr_data_low), annot=True, annot_kws={\"size\":10})"
   ]
  },
  {
   "cell_type": "markdown",
   "metadata": {},
   "source": [
    "## Data Preprocessing"
   ]
  },
  {
   "cell_type": "code",
   "execution_count": null,
   "metadata": {},
   "outputs": [],
   "source": [
    "data = pd.read_csv(\"data.csv\",encoding='cp949')\n",
    "quality = pd.read_excel(\"quality.xlsx\")"
   ]
  },
  {
   "cell_type": "code",
   "execution_count": null,
   "metadata": {},
   "outputs": [],
   "source": [
    "data = data.dropna()\n",
    "data = data.drop(['TAG_MIN'],axis=1)\n",
    "data"
   ]
  },
  {
   "cell_type": "code",
   "execution_count": null,
   "metadata": {},
   "outputs": [],
   "source": [
    "quality['불량률'] = quality['불량수량']/quality['총수량']\n",
    "quality['불량단계'] = 0\n",
    "quality.loc[quality['불량률']>=0.0004525, '불량단계'] = 1\n",
    "quality['데이터수'] = data.groupby('배정번호')['세정기'].count().reset_index(drop=True)\n",
    "quality['위험군개수'] = np.round(quality['불량률']*quality['데이터수']*10)\n",
    "quality = quality.drop(['작업일','공정명','설비명','양품수량','불량수량','총수량','불량률'],axis=1)\n",
    "quality"
   ]
  },
  {
   "cell_type": "code",
   "execution_count": null,
   "metadata": {},
   "outputs": [],
   "source": [
    "data.to_csv(\"preprocess_data.csv\",index=False)\n",
    "quality.to_csv(\"preprocess_quality.csv\",index=False)"
   ]
  },
  {
   "cell_type": "code",
   "execution_count": null,
   "metadata": {},
   "outputs": [],
   "source": []
  }
 ],
 "metadata": {
  "kernelspec": {
   "display_name": "base",
   "language": "python",
   "name": "python3"
  },
  "language_info": {
   "codemirror_mode": {
    "name": "ipython",
    "version": 3
   },
   "file_extension": ".py",
   "mimetype": "text/x-python",
   "name": "python",
   "nbconvert_exporter": "python",
   "pygments_lexer": "ipython3",
   "version": "3.10.9"
  }
 },
 "nbformat": 4,
 "nbformat_minor": 2
}
